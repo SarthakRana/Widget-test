{
 "cells": [
  {
   "cell_type": "code",
   "execution_count": 2,
   "metadata": {
    "id": "cDbxc5wnp6Ss"
   },
   "outputs": [],
   "source": [
    "import json\n",
    "import ipywidgets\n",
    "from ipywidgets import IntSlider\n",
    "from ipywidgets.embed import embed_data"
   ]
  },
  {
   "cell_type": "code",
   "execution_count": 3,
   "metadata": {
    "id": "Y97E2VD9gOP9"
   },
   "outputs": [],
   "source": [
    "s1 = IntSlider(max=200, value=100)\n",
    "s2 = IntSlider(value=40)\n",
    "data = embed_data(views=[s1, s2])"
   ]
  },
  {
   "cell_type": "code",
   "execution_count": 4,
   "metadata": {
    "colab": {
     "base_uri": "https://localhost:8080/",
     "height": 49,
     "referenced_widgets": [
      "fea4e9b0613d4312a8f37e76d2f7bc17",
      "af5fbcfd68bd4a6186b966dea1e2686d",
      "7030b1334042457dad714873127e2508"
     ]
    },
    "id": "KEezK7RygQSq",
    "outputId": "bbe477cb-26c6-4e47-e2b2-7554a80e2a55",
    "scrolled": true
   },
   "outputs": [
    {
     "data": {
      "application/vnd.jupyter.widget-view+json": {
       "model_id": "d2b25c5f04584fd5910a3f157488d773",
       "version_major": 2,
       "version_minor": 0
      },
      "text/plain": [
       "IntSlider(value=100, max=200)"
      ]
     },
     "metadata": {},
     "output_type": "display_data"
    }
   ],
   "source": [
    "s1"
   ]
  }
 ],
 "metadata": {
  "colab": {
   "collapsed_sections": [],
   "name": "TSF_using_LSTMs.ipynb",
   "provenance": []
  },
  "kernelspec": {
   "display_name": "Python [conda env:Tensorflow] *",
   "language": "python",
   "name": "conda-env-Tensorflow-py"
  },
  "language_info": {
   "codemirror_mode": {
    "name": "ipython",
    "version": 3
   },
   "file_extension": ".py",
   "mimetype": "text/x-python",
   "name": "python",
   "nbconvert_exporter": "python",
   "pygments_lexer": "ipython3",
   "version": "3.7.9"
  },
  "widgets": {
   "application/vnd.jupyter.widget-state+json": {
    "state": {
     "1a06e1a03b40445991afb910324a36d8": {
      "model_module": "@jupyter-widgets/controls",
      "model_module_version": "1.5.0",
      "model_name": "SliderStyleModel",
      "state": {
       "description_width": ""
      }
     },
     "291e10ade5c84e238adc6e30d78ccc1a": {
      "model_module": "@jupyter-widgets/controls",
      "model_module_version": "1.5.0",
      "model_name": "SliderStyleModel",
      "state": {
       "description_width": ""
      }
     },
     "9422f63b5ecf495bb90ddae3b1c6ea8e": {
      "model_module": "@jupyter-widgets/base",
      "model_module_version": "1.2.0",
      "model_name": "LayoutModel",
      "state": {}
     },
     "ba2444071bdd42abb0f9e79705357718": {
      "model_module": "@jupyter-widgets/base",
      "model_module_version": "1.2.0",
      "model_name": "LayoutModel",
      "state": {}
     },
     "d2b25c5f04584fd5910a3f157488d773": {
      "model_module": "@jupyter-widgets/controls",
      "model_module_version": "1.5.0",
      "model_name": "IntSliderModel",
      "state": {
       "layout": "IPY_MODEL_9422f63b5ecf495bb90ddae3b1c6ea8e",
       "max": 200,
       "style": "IPY_MODEL_291e10ade5c84e238adc6e30d78ccc1a",
       "value": 100
      }
     },
     "d51fdac044434bc4ba00fd9e575cad3c": {
      "model_module": "@jupyter-widgets/controls",
      "model_module_version": "1.5.0",
      "model_name": "IntSliderModel",
      "state": {
       "layout": "IPY_MODEL_ba2444071bdd42abb0f9e79705357718",
       "style": "IPY_MODEL_1a06e1a03b40445991afb910324a36d8",
       "value": 40
      }
     }
    },
    "version_major": 2,
    "version_minor": 0
   }
  }
 },
 "nbformat": 4,
 "nbformat_minor": 1
}
